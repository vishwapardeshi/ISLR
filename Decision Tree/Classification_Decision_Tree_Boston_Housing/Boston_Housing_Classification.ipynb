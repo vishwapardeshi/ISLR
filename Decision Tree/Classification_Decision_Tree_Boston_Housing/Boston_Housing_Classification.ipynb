{
  "nbformat": 4,
  "nbformat_minor": 0,
  "metadata": {
    "colab": {
      "name": "IMT575 PS1.ipynb",
      "provenance": [],
      "collapsed_sections": [
        "qcz7XRSsBdOd",
        "ilOy6kj8C2NM",
        "_VC8YfirmHY4",
        "004Nx5ejmWy1",
        "n0lTLFKCmgRf"
      ],
      "toc_visible": true
    },
    "kernelspec": {
      "name": "python3",
      "display_name": "Python 3"
    }
  },
  "cells": [
    {
      "cell_type": "markdown",
      "metadata": {
        "id": "UrwqYFXVBcDz",
        "colab_type": "text"
      },
      "source": [
        "\n",
        "<h1>Classification of Boston Houses using Decision Trees</h1>\n",
        "\n",
        "---\n",
        "This problem set has 4 parts: \n",
        "\n",
        "\n",
        "1.   <a href='#Part1'>Creating Helper Functions</a>\n",
        "2.   <a href='#Part2'>Building Trees</a>\n",
        "3.   <a href='#Part3'>Making Predictions</a>\n",
        "4.   <a href='#Part4'>Comparing to out-of-the-box classifiers</a>\n",
        "\n",
        "\n",
        "\n",
        "\n",
        "\n",
        "\n"
      ]
    },
    {
      "cell_type": "code",
      "metadata": {
        "id": "O_fWN6S4-XVC",
        "colab_type": "code",
        "colab": {}
      },
      "source": [
        "#import libraries\n",
        "import math #for entropy calculation\n",
        "import pandas as pd\n",
        "import numpy as np\n",
        "from random import choices\n",
        "\n",
        "from sklearn import tree # for decision tree\n",
        "from sklearn.datasets import load_boston #for loading dataset\n",
        "from sklearn.metrics import accuracy_score \n",
        "from sklearn.tree import DecisionTreeClassifier\n",
        "from sklearn.ensemble import BaggingClassifier\n",
        "from sklearn.ensemble import RandomForestClassifier\n",
        "\n",
        "import graphviz #for visualization of tree\n",
        "import matplotlib.pyplot as plt\n",
        "%matplotlib inline"
      ],
      "execution_count": null,
      "outputs": []
    },
    {
      "cell_type": "markdown",
      "metadata": {
        "id": "qcz7XRSsBdOd",
        "colab_type": "text"
      },
      "source": [
        "\n",
        "---\n",
        "\n",
        "<a id='Part1'></a>\n",
        "# Section 1: Creating Helper Functions \n",
        "\n",
        "---\n"
      ]
    },
    {
      "cell_type": "markdown",
      "metadata": {
        "id": "-BLbsFhgTShF",
        "colab_type": "text"
      },
      "source": [
        "Creating three helper functions to calculate:\n",
        "\n",
        "\n",
        "1.   Gini Impurity\n",
        "2.   Entropy\n",
        "3.   Weighted Sum\n",
        "\n",
        "\n",
        "---\n",
        "\n",
        "\n",
        "\n"
      ]
    },
    {
      "cell_type": "markdown",
      "metadata": {
        "id": "KLVOcNh1Sc6p",
        "colab_type": "text"
      },
      "source": [
        "#### 1. **calcGini:** Helper function to calculate Gini impurity\n",
        "\n",
        "\n",
        "---\n",
        "\n",
        "\n",
        "\n",
        "\n",
        "\n",
        "\n",
        "\n",
        "\n",
        "\n",
        "\n"
      ]
    },
    {
      "cell_type": "markdown",
      "metadata": {
        "id": "ck2bWBU3loq0",
        "colab_type": "text"
      },
      "source": [
        "> *Input parameters:* Count of each class (assume only two classes for this problem set)\n",
        "\n",
        "> *Output:* Gini Impurity\n"
      ]
    },
    {
      "cell_type": "code",
      "metadata": {
        "id": "CycgCyabU8_K",
        "colab_type": "code",
        "colab": {}
      },
      "source": [
        "def calcGini(count_A, count_B):\n",
        "  prob_A = count_A / (count_A + count_B)\n",
        "  prob_B = 1 - prob_A\n",
        "\n",
        "  #calculate gini impurity \n",
        "  gini = 1 - prob_A ** 2 - prob_B ** 2\n",
        "  return gini"
      ],
      "execution_count": null,
      "outputs": []
    },
    {
      "cell_type": "markdown",
      "metadata": {
        "id": "UkM3pagkU8eO",
        "colab_type": "text"
      },
      "source": [
        "#### 2. **calcEntropy**: Helper function to calculate Entropy\n",
        "\n",
        "---\n",
        "\n",
        "\n",
        "\n"
      ]
    },
    {
      "cell_type": "markdown",
      "metadata": {
        "id": "IrvzzSjMlr-H",
        "colab_type": "text"
      },
      "source": [
        "> Input parameters: Count of each class (assume only two classes for this problem set)\n",
        "\n",
        "> Output: Entropy"
      ]
    },
    {
      "cell_type": "code",
      "metadata": {
        "id": "L6LoOt5x_-h6",
        "colab_type": "code",
        "colab": {}
      },
      "source": [
        "def calcEntropy(count_A, count_B):\n",
        "  prob_A = count_A / (count_A + count_B)\n",
        "  prob_B = 1 - prob_A\n",
        "\n",
        "  #calculate entropy \n",
        "  try:\n",
        "    entropy = - (prob_A * math.log (prob_A, 2) + prob_B * math.log (prob_B, 2))\n",
        "  except (ValueError):\n",
        "    entropy = 0\n",
        "  return entropy"
      ],
      "execution_count": null,
      "outputs": []
    },
    {
      "cell_type": "markdown",
      "metadata": {
        "id": "SpVftEvAALzy",
        "colab_type": "text"
      },
      "source": [
        "#### 3. **weightedSum:** Helper function to calculate Gini impurity\n",
        "\n",
        "---\n",
        "\n",
        "\n",
        "\n"
      ]
    },
    {
      "cell_type": "markdown",
      "metadata": {
        "id": "yhczkjYslyKh",
        "colab_type": "text"
      },
      "source": [
        "> Input parameters: List of values and counts\n",
        "\n",
        "> Output: Weighted Sum of values"
      ]
    },
    {
      "cell_type": "code",
      "metadata": {
        "id": "iYeHr0qjAAfq",
        "colab_type": "code",
        "colab": {}
      },
      "source": [
        "def weightedSum(values, weights):\n",
        "  \n",
        "  weighted_sum = 0\n",
        "  for i in range(len(values)):\n",
        "    weighted_sum += values[i] * weights[i]\n",
        "  return weighted_sum"
      ],
      "execution_count": null,
      "outputs": []
    },
    {
      "cell_type": "markdown",
      "metadata": {
        "id": "k_xJt3UlBLT6",
        "colab_type": "text"
      },
      "source": [
        "#### 4. Verify that your functions are working as expected\n",
        "\n",
        "---\n"
      ]
    },
    {
      "cell_type": "markdown",
      "metadata": {
        "id": "cn7bvG0s-1bi",
        "colab_type": "text"
      },
      "source": [
        "We first import the toyData into a pandas Dataframe"
      ]
    },
    {
      "cell_type": "code",
      "metadata": {
        "id": "clikvYeUtefe",
        "colab_type": "code",
        "colab": {
          "base_uri": "https://localhost:8080/",
          "height": 352
        },
        "outputId": "da81fd76-5674-4503-b0a3-1fd252029ccd"
      },
      "source": [
        "#importing toy data set \n",
        "toy_data = pd.read_csv(\"toyData.csv\")\n",
        "toy_data"
      ],
      "execution_count": null,
      "outputs": [
        {
          "output_type": "execute_result",
          "data": {
            "text/html": [
              "<div>\n",
              "<style scoped>\n",
              "    .dataframe tbody tr th:only-of-type {\n",
              "        vertical-align: middle;\n",
              "    }\n",
              "\n",
              "    .dataframe tbody tr th {\n",
              "        vertical-align: top;\n",
              "    }\n",
              "\n",
              "    .dataframe thead th {\n",
              "        text-align: right;\n",
              "    }\n",
              "</style>\n",
              "<table border=\"1\" class=\"dataframe\">\n",
              "  <thead>\n",
              "    <tr style=\"text-align: right;\">\n",
              "      <th></th>\n",
              "      <th>Variable A</th>\n",
              "      <th>Variable B</th>\n",
              "      <th>Variable C</th>\n",
              "      <th>Output</th>\n",
              "    </tr>\n",
              "  </thead>\n",
              "  <tbody>\n",
              "    <tr>\n",
              "      <th>0</th>\n",
              "      <td>Yes</td>\n",
              "      <td>On</td>\n",
              "      <td>High</td>\n",
              "      <td>Red</td>\n",
              "    </tr>\n",
              "    <tr>\n",
              "      <th>1</th>\n",
              "      <td>No</td>\n",
              "      <td>Off</td>\n",
              "      <td>Low</td>\n",
              "      <td>Blue</td>\n",
              "    </tr>\n",
              "    <tr>\n",
              "      <th>2</th>\n",
              "      <td>Yes</td>\n",
              "      <td>On</td>\n",
              "      <td>High</td>\n",
              "      <td>Red</td>\n",
              "    </tr>\n",
              "    <tr>\n",
              "      <th>3</th>\n",
              "      <td>Yes</td>\n",
              "      <td>Off</td>\n",
              "      <td>High</td>\n",
              "      <td>Red</td>\n",
              "    </tr>\n",
              "    <tr>\n",
              "      <th>4</th>\n",
              "      <td>No</td>\n",
              "      <td>On</td>\n",
              "      <td>High</td>\n",
              "      <td>Blue</td>\n",
              "    </tr>\n",
              "    <tr>\n",
              "      <th>5</th>\n",
              "      <td>Yes</td>\n",
              "      <td>On</td>\n",
              "      <td>Low</td>\n",
              "      <td>Blue</td>\n",
              "    </tr>\n",
              "    <tr>\n",
              "      <th>6</th>\n",
              "      <td>No</td>\n",
              "      <td>Off</td>\n",
              "      <td>High</td>\n",
              "      <td>Blue</td>\n",
              "    </tr>\n",
              "    <tr>\n",
              "      <th>7</th>\n",
              "      <td>No</td>\n",
              "      <td>On</td>\n",
              "      <td>High</td>\n",
              "      <td>Blue</td>\n",
              "    </tr>\n",
              "    <tr>\n",
              "      <th>8</th>\n",
              "      <td>Yes</td>\n",
              "      <td>On</td>\n",
              "      <td>Low</td>\n",
              "      <td>Blue</td>\n",
              "    </tr>\n",
              "    <tr>\n",
              "      <th>9</th>\n",
              "      <td>Yes</td>\n",
              "      <td>Off</td>\n",
              "      <td>High</td>\n",
              "      <td>Red</td>\n",
              "    </tr>\n",
              "  </tbody>\n",
              "</table>\n",
              "</div>"
            ],
            "text/plain": [
              "  Variable A Variable B Variable C Output\n",
              "0        Yes         On       High    Red\n",
              "1         No        Off        Low   Blue\n",
              "2        Yes         On       High    Red\n",
              "3        Yes        Off       High    Red\n",
              "4         No         On       High   Blue\n",
              "5        Yes         On        Low   Blue\n",
              "6         No        Off       High   Blue\n",
              "7         No         On       High   Blue\n",
              "8        Yes         On        Low   Blue\n",
              "9        Yes        Off       High    Red"
            ]
          },
          "metadata": {
            "tags": []
          },
          "execution_count": 50
        }
      ]
    },
    {
      "cell_type": "markdown",
      "metadata": {
        "id": "zAvlKHpWKTXl",
        "colab_type": "text"
      },
      "source": [
        "As can be observed all the columns have two unique values, thus our helper functions which were built with the assumption of binary class can be used for each of the column."
      ]
    },
    {
      "cell_type": "code",
      "metadata": {
        "id": "Bh7rbbrAfXF_",
        "colab_type": "code",
        "colab": {}
      },
      "source": [
        "#get subset \n",
        "def subset(df, col, val):\n",
        "  return df.loc[df[col] == val]\n",
        "\n",
        "def getColumnCount(df, col, col_unique):\n",
        "  count_1, count_2 = 0, 0\n",
        "  k = 0\n",
        "  for i in col_unique:\n",
        "    if i in set(df[col]):\n",
        "      count = (df[col] == i).sum()\n",
        "      if k == 0:\n",
        "        count_1 = count\n",
        "      elif k == 1:\n",
        "        count_2 = count\n",
        "    k += 1\n",
        "  return count_1, count_2\n",
        "      \n",
        "#get count of target within a particular coolumn\n",
        "#use subset of dataframe\n",
        "def getGiniTotal(df, col, col_unique, target, target_unique):\n",
        "  #get count of columns\n",
        "\n",
        "  count_1, count_2 = getColumnCount(df, col, col_unique)\n",
        "  gini_col = []\n",
        "  prob_1 = count_1 / (count_1 + count_2)\n",
        "  weight = [prob_1, 1 - prob_1] \n",
        "  for v in col_unique:\n",
        "    #get subset of the df\n",
        "    sub_df = subset(df, col, v)\n",
        "    count_a, count_b = getColumnCount(sub_df, target, target_unique)\n",
        "    gini_col.append(round(calcGini(count_a, count_b), 6))\n",
        "  gini = round(weightedSum(gini_col, weight),6)\n",
        "  return gini_col, gini\n",
        "\n",
        "def getEntropyTotal(df, col, col_unique, target, target_unique):\n",
        "  #get count of columns\n",
        "  #get unique columns \n",
        "  \n",
        "  count_1, count_2 = getColumnCount(df, col, col_unique)\n",
        "  entropy_col = []\n",
        "  prob_1 = count_1 / (count_1 + count_2)\n",
        "  weight = [prob_1, 1 - prob_1] \n",
        "  for v in col_unique:\n",
        "    #get subset of the df\n",
        "    sub_df = subset(df, col, v)\n",
        "    count_a, count_b = getColumnCount(sub_df, target, target_unique)\n",
        "    entropy_col.append(round(calcEntropy(count_a, count_b), 6))\n",
        "  entropy = round(weightedSum(entropy_col, weight),6)\n",
        "  return entropy_col, entropy"
      ],
      "execution_count": null,
      "outputs": []
    },
    {
      "cell_type": "markdown",
      "metadata": {
        "id": "4xC1GwDb-rmW",
        "colab_type": "text"
      },
      "source": [
        "To find gini impurity of each column in toyData"
      ]
    },
    {
      "cell_type": "code",
      "metadata": {
        "id": "nLkfko0gQ0W5",
        "colab_type": "code",
        "colab": {
          "base_uri": "https://localhost:8080/",
          "height": 263
        },
        "outputId": "f1c0f2b5-8260-4e61-88c9-92e549dc62a9"
      },
      "source": [
        "#find gini impurity for all columns\n",
        "for col in toy_data.columns[:3]:\n",
        "  target = \"Output\"\n",
        "  var_col = toy_data[col].unique()\n",
        "  var_target = toy_data[target].unique()\n",
        "  gini_col, gini = getGiniTotal(toy_data, col, var_col, target, var_target)\n",
        "  print(\"\\nFor \", col, \":\\nColumn Value\\t\", var_col[0], \"\\t\", var_col[1], \"\\nGini Impurity\\t%.2f\" % gini_col[0], \"\\t%.2f\"% gini_col[1], \"\\nTotal Gini Impurity: \", round(gini, 2))\n",
        " "
      ],
      "execution_count": null,
      "outputs": [
        {
          "output_type": "stream",
          "text": [
            "\n",
            "For  Variable A :\n",
            "Column Value\t Yes \t No \n",
            "Gini Impurity\t0.44 \t0.00 \n",
            "Total Gini Impurity:  0.27\n",
            "\n",
            "For  Variable B :\n",
            "Column Value\t On \t Off \n",
            "Gini Impurity\t0.44 \t0.50 \n",
            "Total Gini Impurity:  0.47\n",
            "\n",
            "For  Variable C :\n",
            "Column Value\t High \t Low \n",
            "Gini Impurity\t0.49 \t0.00 \n",
            "Total Gini Impurity:  0.34\n"
          ],
          "name": "stdout"
        }
      ]
    },
    {
      "cell_type": "markdown",
      "metadata": {
        "id": "SxNhLJIWzZ30",
        "colab_type": "text"
      },
      "source": [
        "To now find the entropy of each column in toyData\n",
        "\n"
      ]
    },
    {
      "cell_type": "code",
      "metadata": {
        "id": "UCl3uWMSpo7q",
        "colab_type": "code",
        "colab": {
          "base_uri": "https://localhost:8080/",
          "height": 263
        },
        "outputId": "3c36034b-0a61-4076-9f5f-0ffec2943526"
      },
      "source": [
        "for col in toy_data.columns[:3]:\n",
        "  target = \"Output\"\n",
        "  var_col = toy_data[col].unique()\n",
        "  var_target = toy_data[target].unique()\n",
        "  entropy_col, entropy = getEntropyTotal(toy_data, col, var_col, target, var_target)\n",
        "  print(\"\\nFor \", col, \":\\nColumn Value\\t\", var_col[0], \"\\t\", var_col[1], \"\\nEntropy\\t\\t%.2f\" % entropy_col[0], \"\\t%.2f\"% entropy_col[1], \"\\nTotal Entropy: \", round(entropy,2))\n",
        " "
      ],
      "execution_count": null,
      "outputs": [
        {
          "output_type": "stream",
          "text": [
            "\n",
            "For  Variable A :\n",
            "Column Value\t Yes \t No \n",
            "Entropy\t\t0.92 \t0.00 \n",
            "Total Entropy:  0.55\n",
            "\n",
            "For  Variable B :\n",
            "Column Value\t On \t Off \n",
            "Entropy\t\t0.92 \t1.00 \n",
            "Total Entropy:  0.95\n",
            "\n",
            "For  Variable C :\n",
            "Column Value\t High \t Low \n",
            "Entropy\t\t0.99 \t0.00 \n",
            "Total Entropy:  0.69\n"
          ],
          "name": "stdout"
        }
      ]
    },
    {
      "cell_type": "markdown",
      "metadata": {
        "id": "dhRuu456_V0j",
        "colab_type": "text"
      },
      "source": [
        "As can be cross-checked, the toyData entropy and gini impurity value is same as that calculated in lecture."
      ]
    },
    {
      "cell_type": "markdown",
      "metadata": {
        "id": "DzYEvnNUERud",
        "colab_type": "text"
      },
      "source": [
        "\n",
        "---\n",
        "\n",
        "<a id='Part2'></a>\n",
        "# Section 2: Building Trees\n",
        "\n",
        "\n",
        "---\n"
      ]
    },
    {
      "cell_type": "markdown",
      "metadata": {
        "id": "ilOy6kj8C2NM",
        "colab_type": "text"
      },
      "source": [
        "#### 5. Import the Boston using dataset using sklearn.datasets\n",
        "\n",
        "---\n",
        "\n"
      ]
    },
    {
      "cell_type": "code",
      "metadata": {
        "id": "jvLv5Gk8wBBr",
        "colab_type": "code",
        "colab": {}
      },
      "source": [
        "boston = load_boston()\n",
        "\n",
        "#convert to dataframe\n",
        "boston_df = pd.DataFrame(boston.data)\n",
        "boston_df.columns = boston.feature_names\n",
        "boston_df['MEDV'] = pd.Series(boston.target)\n",
        "\n",
        "#create a new response variable using MEDV > 35K\n",
        "boston_df['highPriced'] = [True if value > 35.0 else False for value in boston_df['MEDV']]"
      ],
      "execution_count": null,
      "outputs": []
    },
    {
      "cell_type": "code",
      "metadata": {
        "id": "uGheUdkQTV6W",
        "colab_type": "code",
        "colab": {
          "base_uri": "https://localhost:8080/",
          "height": 221
        },
        "outputId": "91b5ce88-53bb-407f-e87d-89c56f19fe32"
      },
      "source": [
        "boston_df.head()"
      ],
      "execution_count": null,
      "outputs": [
        {
          "output_type": "execute_result",
          "data": {
            "text/html": [
              "<div>\n",
              "<style scoped>\n",
              "    .dataframe tbody tr th:only-of-type {\n",
              "        vertical-align: middle;\n",
              "    }\n",
              "\n",
              "    .dataframe tbody tr th {\n",
              "        vertical-align: top;\n",
              "    }\n",
              "\n",
              "    .dataframe thead th {\n",
              "        text-align: right;\n",
              "    }\n",
              "</style>\n",
              "<table border=\"1\" class=\"dataframe\">\n",
              "  <thead>\n",
              "    <tr style=\"text-align: right;\">\n",
              "      <th></th>\n",
              "      <th>CRIM</th>\n",
              "      <th>ZN</th>\n",
              "      <th>INDUS</th>\n",
              "      <th>CHAS</th>\n",
              "      <th>NOX</th>\n",
              "      <th>RM</th>\n",
              "      <th>AGE</th>\n",
              "      <th>DIS</th>\n",
              "      <th>RAD</th>\n",
              "      <th>TAX</th>\n",
              "      <th>PTRATIO</th>\n",
              "      <th>B</th>\n",
              "      <th>LSTAT</th>\n",
              "      <th>MEDV</th>\n",
              "      <th>highPriced</th>\n",
              "    </tr>\n",
              "  </thead>\n",
              "  <tbody>\n",
              "    <tr>\n",
              "      <th>0</th>\n",
              "      <td>0.00632</td>\n",
              "      <td>18.0</td>\n",
              "      <td>2.31</td>\n",
              "      <td>0.0</td>\n",
              "      <td>0.538</td>\n",
              "      <td>6.575</td>\n",
              "      <td>65.2</td>\n",
              "      <td>4.0900</td>\n",
              "      <td>1.0</td>\n",
              "      <td>296.0</td>\n",
              "      <td>15.3</td>\n",
              "      <td>396.90</td>\n",
              "      <td>4.98</td>\n",
              "      <td>24.0</td>\n",
              "      <td>False</td>\n",
              "    </tr>\n",
              "    <tr>\n",
              "      <th>1</th>\n",
              "      <td>0.02731</td>\n",
              "      <td>0.0</td>\n",
              "      <td>7.07</td>\n",
              "      <td>0.0</td>\n",
              "      <td>0.469</td>\n",
              "      <td>6.421</td>\n",
              "      <td>78.9</td>\n",
              "      <td>4.9671</td>\n",
              "      <td>2.0</td>\n",
              "      <td>242.0</td>\n",
              "      <td>17.8</td>\n",
              "      <td>396.90</td>\n",
              "      <td>9.14</td>\n",
              "      <td>21.6</td>\n",
              "      <td>False</td>\n",
              "    </tr>\n",
              "    <tr>\n",
              "      <th>2</th>\n",
              "      <td>0.02729</td>\n",
              "      <td>0.0</td>\n",
              "      <td>7.07</td>\n",
              "      <td>0.0</td>\n",
              "      <td>0.469</td>\n",
              "      <td>7.185</td>\n",
              "      <td>61.1</td>\n",
              "      <td>4.9671</td>\n",
              "      <td>2.0</td>\n",
              "      <td>242.0</td>\n",
              "      <td>17.8</td>\n",
              "      <td>392.83</td>\n",
              "      <td>4.03</td>\n",
              "      <td>34.7</td>\n",
              "      <td>False</td>\n",
              "    </tr>\n",
              "    <tr>\n",
              "      <th>3</th>\n",
              "      <td>0.03237</td>\n",
              "      <td>0.0</td>\n",
              "      <td>2.18</td>\n",
              "      <td>0.0</td>\n",
              "      <td>0.458</td>\n",
              "      <td>6.998</td>\n",
              "      <td>45.8</td>\n",
              "      <td>6.0622</td>\n",
              "      <td>3.0</td>\n",
              "      <td>222.0</td>\n",
              "      <td>18.7</td>\n",
              "      <td>394.63</td>\n",
              "      <td>2.94</td>\n",
              "      <td>33.4</td>\n",
              "      <td>False</td>\n",
              "    </tr>\n",
              "    <tr>\n",
              "      <th>4</th>\n",
              "      <td>0.06905</td>\n",
              "      <td>0.0</td>\n",
              "      <td>2.18</td>\n",
              "      <td>0.0</td>\n",
              "      <td>0.458</td>\n",
              "      <td>7.147</td>\n",
              "      <td>54.2</td>\n",
              "      <td>6.0622</td>\n",
              "      <td>3.0</td>\n",
              "      <td>222.0</td>\n",
              "      <td>18.7</td>\n",
              "      <td>396.90</td>\n",
              "      <td>5.33</td>\n",
              "      <td>36.2</td>\n",
              "      <td>True</td>\n",
              "    </tr>\n",
              "  </tbody>\n",
              "</table>\n",
              "</div>"
            ],
            "text/plain": [
              "      CRIM    ZN  INDUS  CHAS    NOX  ...  PTRATIO       B  LSTAT  MEDV  highPriced\n",
              "0  0.00632  18.0   2.31   0.0  0.538  ...     15.3  396.90   4.98  24.0       False\n",
              "1  0.02731   0.0   7.07   0.0  0.469  ...     17.8  396.90   9.14  21.6       False\n",
              "2  0.02729   0.0   7.07   0.0  0.469  ...     17.8  392.83   4.03  34.7       False\n",
              "3  0.03237   0.0   2.18   0.0  0.458  ...     18.7  394.63   2.94  33.4       False\n",
              "4  0.06905   0.0   2.18   0.0  0.458  ...     18.7  396.90   5.33  36.2        True\n",
              "\n",
              "[5 rows x 15 columns]"
            ]
          },
          "metadata": {
            "tags": []
          },
          "execution_count": 55
        }
      ]
    },
    {
      "cell_type": "code",
      "metadata": {
        "id": "gHPK4rOiBjZt",
        "colab_type": "code",
        "colab": {
          "base_uri": "https://localhost:8080/",
          "height": 102
        },
        "outputId": "fa5fde60-9367-4b04-f3e5-38b7e35ade63"
      },
      "source": [
        "plt.hist(boston_df.MEDV)"
      ],
      "execution_count": null,
      "outputs": [
        {
          "output_type": "execute_result",
          "data": {
            "text/plain": [
              "(array([ 21.,  55.,  82., 154.,  84.,  41.,  30.,   8.,  10.,  21.]),\n",
              " array([ 5. ,  9.5, 14. , 18.5, 23. , 27.5, 32. , 36.5, 41. , 45.5, 50. ]),\n",
              " <a list of 10 Patch objects>)"
            ]
          },
          "metadata": {
            "tags": []
          },
          "execution_count": 56
        },
        {
          "output_type": "display_data",
          "data": {
            "image/png": "[encoded data removed]",
            "text/plain": [
              "<Figure size 432x288 with 1 Axes>"
            ]
          },
          "metadata": {
            "tags": [],
            "needs_background": "light"
          }
        }
      ]
    },
    {
      "cell_type": "markdown",
      "metadata": {
        "id": "Ql6zIl3gXBMo",
        "colab_type": "text"
      },
      "source": [
        "As can be observed from the histogram of MEDV, we observe that before 35k the median price of households are fairly normally distributed and only after that does it deviate. Thus, I believe that the split at 35k captures high priced or not adequately. Additionally, as one would expect the highPriced homes should constitute a lesser number compared to well or low priced. This is reflected in the count below."
      ]
    },
    {
      "cell_type": "code",
      "metadata": {
        "id": "9WL5fuQVAs9P",
        "colab_type": "code",
        "colab": {
          "base_uri": "https://localhost:8080/",
          "height": 85
        },
        "outputId": "82578ccb-d744-4fa9-d59a-29716e892fcc"
      },
      "source": [
        "boston_df.highPriced.value_counts()"
      ],
      "execution_count": null,
      "outputs": [
        {
          "output_type": "execute_result",
          "data": {
            "text/plain": [
              "False    458\n",
              "True      48\n",
              "Name: highPriced, dtype: int64"
            ]
          },
          "metadata": {
            "tags": []
          },
          "execution_count": 57
        }
      ]
    },
    {
      "cell_type": "markdown",
      "metadata": {
        "id": "_VC8YfirmHY4",
        "colab_type": "text"
      },
      "source": [
        "#### 6. Using your helper functions & with highPriced as your output, find what the best split is along the AGE variable using each of Gini impurity and entropy as the splitting criterion\n",
        "\n",
        "---"
      ]
    },
    {
      "cell_type": "code",
      "metadata": {
        "id": "CdvRo-PnMaE9",
        "colab_type": "code",
        "colab": {}
      },
      "source": [
        "#function to get the axis-aligned splits between every pair of data points\n",
        "def getMean(df, col):\n",
        "  sort_col = sorted(df[col].unique())\n",
        "  mean = []\n",
        "  for i in range(len(sort_col) - 1):\n",
        "    mean.append(round(((sort_col[i] + sort_col[i+1])/2), 3))\n",
        "  return mean"
      ],
      "execution_count": null,
      "outputs": []
    },
    {
      "cell_type": "code",
      "metadata": {
        "id": "-zt_lOGUzcqO",
        "colab_type": "code",
        "colab": {}
      },
      "source": [
        "#to find the optimal split based on either entropy or gini impurity\n",
        "def getBestSplit(df, col, target):\n",
        "  var_col = [0,1]\n",
        "  var_target = [False, True]\n",
        "  bool_df = pd.DataFrame()\n",
        "  bool_df[target] = pd.Series(df[target])\n",
        "  minGini = 2\n",
        "  minEntropy = 2\n",
        "  mean = getMean(df, col)\n",
        "  g_split, e_split = mean[0], mean[0]\n",
        "  for m in mean:\n",
        "    bool_df[col] = [1 if value >= m else 0 for value in df[col]]\n",
        "    bool_df.head()\n",
        "    _, currentgini = getGiniTotal(bool_df, col, var_col, target, var_target)\n",
        "    _, currentEntropy = getEntropyTotal(bool_df, col, var_col, target, var_target)\n",
        "    if currentgini < minGini:\n",
        "      minGini = currentgini\n",
        "      g_split = m\n",
        "    if currentEntropy < minEntropy:\n",
        "      minEntropy = currentEntropy\n",
        "      e_split = m\n",
        "  print(\"The optimal split for \", col, \" based on\\n\",minEntropy, \" entropy is @ split \", \\\n",
        "        e_split, \"\\n\",minGini, \" Gini Impurity is @ split\",   g_split)\n",
        "  return e_split, minEntropy, g_split, minGini\n",
        " "
      ],
      "execution_count": null,
      "outputs": []
    },
    {
      "cell_type": "code",
      "metadata": {
        "id": "XeaUQ5qYAftS",
        "colab_type": "code",
        "colab": {
          "base_uri": "https://localhost:8080/",
          "height": 151
        },
        "outputId": "36dcd7bf-3651-4373-94d8-1f6a59c90cd1"
      },
      "source": [
        "#for age \n",
        "getBestSplit(boston_df.loc[:, [\"AGE\", \"highPriced\"]], \"AGE\", \"highPriced\")\n",
        "#for crim\n",
        "getBestSplit(boston_df.loc[:, [\"CRIM\", \"highPriced\"]], \"CRIM\", \"highPriced\")"
      ],
      "execution_count": null,
      "outputs": [
        {
          "output_type": "stream",
          "text": [
            "The optimal split for  AGE  based on\n",
            " 0.446827  entropy is @ split  37.25 \n",
            " 0.170228  Gini Impurity is @ split 37.25\n",
            "The optimal split for  CRIM  based on\n",
            " 0.432977  entropy is @ split  9.281 \n",
            " 0.168571  Gini Impurity is @ split 0.022\n"
          ],
          "name": "stdout"
        },
        {
          "output_type": "execute_result",
          "data": {
            "text/plain": [
              "(9.281, 0.432977, 0.022, 0.168571)"
            ]
          },
          "metadata": {
            "tags": []
          },
          "execution_count": 60
        }
      ]
    },
    {
      "cell_type": "markdown",
      "metadata": {
        "id": "hUs8sFpeFJ73",
        "colab_type": "text"
      },
      "source": [
        "The optimal split for AGE remains the same i.e. 37.25 for both gini impurity and entropy. However, this is not the case for CRIM where the split points are widely different depending on the impurity factor. "
      ]
    },
    {
      "cell_type": "markdown",
      "metadata": {
        "id": "004Nx5ejmWy1",
        "colab_type": "text"
      },
      "source": [
        "#### 7. Import sklearn's DecisionTreeClassifier & find what the optimal split is along the AGE variable using entropy\n",
        "\n",
        "---"
      ]
    },
    {
      "cell_type": "code",
      "metadata": {
        "id": "8c9pi5BubZ3v",
        "colab_type": "code",
        "colab": {
          "base_uri": "https://localhost:8080/",
          "height": 135
        },
        "outputId": "fae4cce3-d3c6-4ba1-86e7-724e12dff0c6"
      },
      "source": [
        "#select x - predictor ; y -target\n",
        "x = pd.DataFrame(boston_df.loc[:, [\"AGE\"]])\n",
        "y = pd.DataFrame(boston_df.loc[:, 'highPriced'])\n",
        "\n",
        "#fit tree using x and y and limit depth to 1 and using entropy as an impurity factor\n",
        "age_model = tree.DecisionTreeClassifier(max_depth = 1, criterion= 'entropy')\n",
        "age_model.fit(x, y)"
      ],
      "execution_count": null,
      "outputs": [
        {
          "output_type": "execute_result",
          "data": {
            "text/plain": [
              "DecisionTreeClassifier(ccp_alpha=0.0, class_weight=None, criterion='entropy',\n",
              "                       max_depth=1, max_features=None, max_leaf_nodes=None,\n",
              "                       min_impurity_decrease=0.0, min_impurity_split=None,\n",
              "                       min_samples_leaf=1, min_samples_split=2,\n",
              "                       min_weight_fraction_leaf=0.0, presort='deprecated',\n",
              "                       random_state=None, splitter='best')"
            ]
          },
          "metadata": {
            "tags": []
          },
          "execution_count": 61
        }
      ]
    },
    {
      "cell_type": "code",
      "metadata": {
        "id": "NKlpMQuhdz-T",
        "colab_type": "code",
        "colab": {}
      },
      "source": [
        "#function to display tree\n",
        "def display_tree(dot_file):\n",
        "  with open(dot_file) as f:\n",
        "    dot_graph = f.read()\n",
        "  return graphviz.Source(dot_graph)"
      ],
      "execution_count": null,
      "outputs": []
    },
    {
      "cell_type": "code",
      "metadata": {
        "id": "EmwhnqkGnpet",
        "colab_type": "code",
        "colab": {
          "base_uri": "https://localhost:8080/",
          "height": 260
        },
        "outputId": "f397ed82-fcb8-4a54-a164-f16c85783164"
      },
      "source": [
        "tree.export_graphviz(age_model, out_file='age.dot', feature_names=x.columns)\n",
        "display_tree(\"age.dot\")"
      ],
      "execution_count": null,
      "outputs": [
        {
          "output_type": "execute_result",
          "data": {
            "text/plain": [
              "<graphviz.files.Source at 0x7f5acc4d9780>"
            ],
            "image/svg+xml": "<?xml version=\"1.0\" encoding=\"UTF-8\" standalone=\"no\"?>\n<!DOCTYPE svg PUBLIC \"-//W3C//DTD SVG 1.1//EN\"\n \"http://www.w3.org/Graphics/SVG/1.1/DTD/svg11.dtd\">\n<!-- Generated by graphviz version 2.40.1 (20161225.0304)\n -->\n<!-- Title: Tree Pages: 1 -->\n<svg width=\"254pt\" height=\"165pt\"\n viewBox=\"0.00 0.00 253.50 165.00\" xmlns=\"http://www.w3.org/2000/svg\" xmlns:xlink=\"http://www.w3.org/1999/xlink\">\n<g id=\"graph0\" class=\"graph\" transform=\"scale(1 1) rotate(0) translate(4 161)\">\n<title>Tree</title>\n<polygon fill=\"#ffffff\" stroke=\"transparent\" points=\"-4,4 -4,-161 249.5,-161 249.5,4 -4,4\"/>\n<!-- 0 -->\n<g id=\"node1\" class=\"node\">\n<title>0</title>\n<polygon fill=\"none\" stroke=\"#000000\" points=\"179.5,-157 62.5,-157 62.5,-89 179.5,-89 179.5,-157\"/>\n<text text-anchor=\"middle\" x=\"121\" y=\"-141.8\" font-family=\"Times,serif\" font-size=\"14.00\" fill=\"#000000\">AGE &lt;= 37.25</text>\n<text text-anchor=\"middle\" x=\"121\" y=\"-126.8\" font-family=\"Times,serif\" font-size=\"14.00\" fill=\"#000000\">entropy = 0.452</text>\n<text text-anchor=\"middle\" x=\"121\" y=\"-111.8\" font-family=\"Times,serif\" font-size=\"14.00\" fill=\"#000000\">samples = 506</text>\n<text text-anchor=\"middle\" x=\"121\" y=\"-96.8\" font-family=\"Times,serif\" font-size=\"14.00\" fill=\"#000000\">value = [458, 48]</text>\n</g>\n<!-- 1 -->\n<g id=\"node2\" class=\"node\">\n<title>1</title>\n<polygon fill=\"none\" stroke=\"#000000\" points=\"110,-53 0,-53 0,0 110,0 110,-53\"/>\n<text text-anchor=\"middle\" x=\"55\" y=\"-37.8\" font-family=\"Times,serif\" font-size=\"14.00\" fill=\"#000000\">entropy = 0.61</text>\n<text text-anchor=\"middle\" x=\"55\" y=\"-22.8\" font-family=\"Times,serif\" font-size=\"14.00\" fill=\"#000000\">samples = 100</text>\n<text text-anchor=\"middle\" x=\"55\" y=\"-7.8\" font-family=\"Times,serif\" font-size=\"14.00\" fill=\"#000000\">value = [85, 15]</text>\n</g>\n<!-- 0&#45;&gt;1 -->\n<g id=\"edge1\" class=\"edge\">\n<title>0&#45;&gt;1</title>\n<path fill=\"none\" stroke=\"#000000\" d=\"M97.7309,-88.9777C91.656,-80.0954 85.0979,-70.5067 78.9865,-61.5711\"/>\n<polygon fill=\"#000000\" stroke=\"#000000\" points=\"81.8286,-59.5267 73.2943,-53.2485 76.0507,-63.4785 81.8286,-59.5267\"/>\n<text text-anchor=\"middle\" x=\"68.6825\" y=\"-74.1194\" font-family=\"Times,serif\" font-size=\"14.00\" fill=\"#000000\">True</text>\n</g>\n<!-- 2 -->\n<g id=\"node3\" class=\"node\">\n<title>2</title>\n<polygon fill=\"none\" stroke=\"#000000\" points=\"245.5,-53 128.5,-53 128.5,0 245.5,0 245.5,-53\"/>\n<text text-anchor=\"middle\" x=\"187\" y=\"-37.8\" font-family=\"Times,serif\" font-size=\"14.00\" fill=\"#000000\">entropy = 0.407</text>\n<text text-anchor=\"middle\" x=\"187\" y=\"-22.8\" font-family=\"Times,serif\" font-size=\"14.00\" fill=\"#000000\">samples = 406</text>\n<text text-anchor=\"middle\" x=\"187\" y=\"-7.8\" font-family=\"Times,serif\" font-size=\"14.00\" fill=\"#000000\">value = [373, 33]</text>\n</g>\n<!-- 0&#45;&gt;2 -->\n<g id=\"edge2\" class=\"edge\">\n<title>0&#45;&gt;2</title>\n<path fill=\"none\" stroke=\"#000000\" d=\"M144.2691,-88.9777C150.344,-80.0954 156.9021,-70.5067 163.0135,-61.5711\"/>\n<polygon fill=\"#000000\" stroke=\"#000000\" points=\"165.9493,-63.4785 168.7057,-53.2485 160.1714,-59.5267 165.9493,-63.4785\"/>\n<text text-anchor=\"middle\" x=\"173.3175\" y=\"-74.1194\" font-family=\"Times,serif\" font-size=\"14.00\" fill=\"#000000\">False</text>\n</g>\n</g>\n</svg>\n"
          },
          "metadata": {
            "tags": []
          },
          "execution_count": 63
        }
      ]
    },
    {
      "cell_type": "markdown",
      "metadata": {
        "id": "UiZ2Yd0BFrQ_",
        "colab_type": "text"
      },
      "source": [
        "The optimal split value for AGE variable given by sklearn's DecisionTreeClassifier is the same as the one calculated in Q. 6 by using the helper functions."
      ]
    },
    {
      "cell_type": "markdown",
      "metadata": {
        "id": "n0lTLFKCmgRf",
        "colab_type": "text"
      },
      "source": [
        "#### 8. Using the RM, LSTAT, and RAD variables, build a decision tree with 2 levels ( 3 split points, 4 leaf nodes) based on entropy.\n",
        "\n",
        "\n",
        "---\n",
        "\n"
      ]
    },
    {
      "cell_type": "code",
      "metadata": {
        "id": "Q5LiM2r-wXYc",
        "colab_type": "code",
        "colab": {}
      },
      "source": [
        "#create subset of database containing RM, LSTAT, RAD, highPriced\n",
        "scratch_df = boston_df.loc[:, ['RM', 'LSTAT', \"RAD\", \"highPriced\"]]\n",
        "\n",
        "#create an empmty dataframe with columns - level, col, threshold to store the tree\n",
        "scratch_tree = pd.DataFrame(columns = ['level', 'col', 'threshold'])"
      ],
      "execution_count": null,
      "outputs": []
    },
    {
      "cell_type": "code",
      "metadata": {
        "id": "yrKiDAyyxk5S",
        "colab_type": "code",
        "colab": {}
      },
      "source": [
        "#function to find the column with lowest entropy and its split/threshold\n",
        "def bestSplitLevel(columns, threshold, entropy):\n",
        "  i = entropy.index(min(entropy))\n",
        "  return( columns[i], threshold[i])\n",
        "\n",
        "#to find split for a node\n",
        "def getSplit(df,columns, custom_tree, level):\n",
        "  e_values = []\n",
        "  e_threshold = []\n",
        "  for col in columns:\n",
        "    e_split, entropy, _, _ = getBestSplit(df, col, \"highPriced\")\n",
        "    e_values.append(entropy)\n",
        "    e_threshold.append(e_split)\n",
        "  #find bestSplit for node\n",
        "  column, threshold = bestSplitLevel(columns, e_threshold, e_values)\n",
        "  rows = pd.DataFrame([[level, column, threshold]], columns=['level','col','threshold'])\n",
        "  custom_tree = pd.concat([custom_tree, rows], ignore_index= True)\n",
        "  return custom_tree"
      ],
      "execution_count": null,
      "outputs": []
    },
    {
      "cell_type": "code",
      "metadata": {
        "id": "E9nk35v4M4Tj",
        "colab_type": "code",
        "colab": {}
      },
      "source": [
        "def twoLevelTree(df, columns, tree):\n",
        "  #first split \n",
        "  tree = getSplit(df, columns, tree, 1)\n",
        "  #subset data based on level 1 split\n",
        "  left_df = df.loc[df[tree.loc[0, 'col']] < tree.loc[0, 'threshold']]\n",
        "  right_df =  df.loc[df[tree.loc[0, 'col']] >= tree.loc[0, 'threshold']]\n",
        "  tree = getSplit(left_df, columns, tree, 2)\n",
        "  tree = getSplit(right_df, columns, tree, 2)\n",
        "  return tree"
      ],
      "execution_count": null,
      "outputs": []
    },
    {
      "cell_type": "code",
      "metadata": {
        "id": "uTYOoHsznhdl",
        "colab_type": "code",
        "colab": {
          "base_uri": "https://localhost:8080/",
          "height": 461
        },
        "outputId": "89a617ac-f2ed-4739-c6e9-90acb513bfc2"
      },
      "source": [
        "scratch_tree = twoLevelTree(scratch_df, ['RM', \"LSTAT\", \"RAD\"], scratch_tree)"
      ],
      "execution_count": null,
      "outputs": [
        {
          "output_type": "stream",
          "text": [
            "The optimal split for  RM  based on\n",
            " 0.239064  entropy is @ split  6.941 \n",
            " 0.075922  Gini Impurity is @ split 7.437\n",
            "The optimal split for  LSTAT  based on\n",
            " 0.288778  entropy is @ split  5.155 \n",
            " 0.111971  Gini Impurity is @ split 5.155\n",
            "The optimal split for  RAD  based on\n",
            " 0.441105  entropy is @ split  16.0 \n",
            " 0.169434  Gini Impurity is @ split 16.0\n",
            "The optimal split for  RM  based on\n",
            " 0.101172  entropy is @ split  6.68 \n",
            " 0.027228  Gini Impurity is @ split 6.68\n",
            "The optimal split for  LSTAT  based on\n",
            " 0.082353  entropy is @ split  9.535 \n",
            " 0.024631  Gini Impurity is @ split 3.745\n",
            "The optimal split for  RAD  based on\n",
            " 0.099819  entropy is @ split  16.0 \n",
            " 0.027251  Gini Impurity is @ split 16.0\n",
            "The optimal split for  RM  based on\n",
            " 0.603137  entropy is @ split  7.437 \n",
            " 0.270862  Gini Impurity is @ split 7.437\n",
            "The optimal split for  LSTAT  based on\n",
            " 0.809759  entropy is @ split  5.185 \n",
            " 0.374207  Gini Impurity is @ split 5.185\n",
            "The optimal split for  RAD  based on\n",
            " 0.939004  entropy is @ split  16.0 \n",
            " 0.46039  Gini Impurity is @ split 16.0\n"
          ],
          "name": "stdout"
        }
      ]
    },
    {
      "cell_type": "code",
      "metadata": {
        "id": "vGrENJoxnudY",
        "colab_type": "code",
        "colab": {
          "base_uri": "https://localhost:8080/",
          "height": 140
        },
        "outputId": "2339d7f3-10b5-44d9-86e4-a556e75dff03"
      },
      "source": [
        "scratch_tree.head()"
      ],
      "execution_count": null,
      "outputs": [
        {
          "output_type": "execute_result",
          "data": {
            "text/html": [
              "<div>\n",
              "<style scoped>\n",
              "    .dataframe tbody tr th:only-of-type {\n",
              "        vertical-align: middle;\n",
              "    }\n",
              "\n",
              "    .dataframe tbody tr th {\n",
              "        vertical-align: top;\n",
              "    }\n",
              "\n",
              "    .dataframe thead th {\n",
              "        text-align: right;\n",
              "    }\n",
              "</style>\n",
              "<table border=\"1\" class=\"dataframe\">\n",
              "  <thead>\n",
              "    <tr style=\"text-align: right;\">\n",
              "      <th></th>\n",
              "      <th>level</th>\n",
              "      <th>col</th>\n",
              "      <th>threshold</th>\n",
              "    </tr>\n",
              "  </thead>\n",
              "  <tbody>\n",
              "    <tr>\n",
              "      <th>0</th>\n",
              "      <td>1</td>\n",
              "      <td>RM</td>\n",
              "      <td>6.941</td>\n",
              "    </tr>\n",
              "    <tr>\n",
              "      <th>1</th>\n",
              "      <td>2</td>\n",
              "      <td>LSTAT</td>\n",
              "      <td>9.535</td>\n",
              "    </tr>\n",
              "    <tr>\n",
              "      <th>2</th>\n",
              "      <td>2</td>\n",
              "      <td>RM</td>\n",
              "      <td>7.437</td>\n",
              "    </tr>\n",
              "  </tbody>\n",
              "</table>\n",
              "</div>"
            ],
            "text/plain": [
              "  level    col  threshold\n",
              "0     1     RM      6.941\n",
              "1     2  LSTAT      9.535\n",
              "2     2     RM      7.437"
            ]
          },
          "metadata": {
            "tags": []
          },
          "execution_count": 68
        }
      ]
    },
    {
      "cell_type": "code",
      "metadata": {
        "id": "GZVREDL5qndN",
        "colab_type": "code",
        "colab": {
          "base_uri": "https://localhost:8080/",
          "height": 377
        },
        "outputId": "47053301-1f6a-48f7-c1e2-8552ff160411"
      },
      "source": [
        "#check for decision tree using sklearn\n",
        "#use decisionTreeClassifier to find optimal split \n",
        "scratch_model = tree.DecisionTreeClassifier(max_depth = 2, criterion= 'entropy')\n",
        "scratch_model.fit(scratch_df.loc[:, ['RM', \"LSTAT\", \"RAD\"]], (scratch_df.loc[:, \"highPriced\"]))\n",
        "tree.export_graphviz(scratch_model, out_file='custom1.dot', feature_names= (scratch_df.loc[:, ['RM', \"LSTAT\", \"RAD\"]]).columns)\n",
        "display_tree(\"custom1.dot\")"
      ],
      "execution_count": null,
      "outputs": [
        {
          "output_type": "execute_result",
          "data": {
            "text/plain": [
              "<graphviz.files.Source at 0x7f5acc4ca550>"
            ],
            "image/svg+xml": "<?xml version=\"1.0\" encoding=\"UTF-8\" standalone=\"no\"?>\n<!DOCTYPE svg PUBLIC \"-//W3C//DTD SVG 1.1//EN\"\n \"http://www.w3.org/Graphics/SVG/1.1/DTD/svg11.dtd\">\n<!-- Generated by graphviz version 2.40.1 (20161225.0304)\n -->\n<!-- Title: Tree Pages: 1 -->\n<svg width=\"504pt\" height=\"269pt\"\n viewBox=\"0.00 0.00 504.00 269.00\" xmlns=\"http://www.w3.org/2000/svg\" xmlns:xlink=\"http://www.w3.org/1999/xlink\">\n<g id=\"graph0\" class=\"graph\" transform=\"scale(1 1) rotate(0) translate(4 265)\">\n<title>Tree</title>\n<polygon fill=\"#ffffff\" stroke=\"transparent\" points=\"-4,4 -4,-265 500,-265 500,4 -4,4\"/>\n<!-- 0 -->\n<g id=\"node1\" class=\"node\">\n<title>0</title>\n<polygon fill=\"none\" stroke=\"#000000\" points=\"306.5,-261 189.5,-261 189.5,-193 306.5,-193 306.5,-261\"/>\n<text text-anchor=\"middle\" x=\"248\" y=\"-245.8\" font-family=\"Times,serif\" font-size=\"14.00\" fill=\"#000000\">RM &lt;= 6.941</text>\n<text text-anchor=\"middle\" x=\"248\" y=\"-230.8\" font-family=\"Times,serif\" font-size=\"14.00\" fill=\"#000000\">entropy = 0.452</text>\n<text text-anchor=\"middle\" x=\"248\" y=\"-215.8\" font-family=\"Times,serif\" font-size=\"14.00\" fill=\"#000000\">samples = 506</text>\n<text text-anchor=\"middle\" x=\"248\" y=\"-200.8\" font-family=\"Times,serif\" font-size=\"14.00\" fill=\"#000000\">value = [458, 48]</text>\n</g>\n<!-- 1 -->\n<g id=\"node2\" class=\"node\">\n<title>1</title>\n<polygon fill=\"none\" stroke=\"#000000\" points=\"241,-157 123,-157 123,-89 241,-89 241,-157\"/>\n<text text-anchor=\"middle\" x=\"182\" y=\"-141.8\" font-family=\"Times,serif\" font-size=\"14.00\" fill=\"#000000\">LSTAT &lt;= 9.535</text>\n<text text-anchor=\"middle\" x=\"182\" y=\"-126.8\" font-family=\"Times,serif\" font-size=\"14.00\" fill=\"#000000\">entropy = 0.106</text>\n<text text-anchor=\"middle\" x=\"182\" y=\"-111.8\" font-family=\"Times,serif\" font-size=\"14.00\" fill=\"#000000\">samples = 430</text>\n<text text-anchor=\"middle\" x=\"182\" y=\"-96.8\" font-family=\"Times,serif\" font-size=\"14.00\" fill=\"#000000\">value = [424, 6]</text>\n</g>\n<!-- 0&#45;&gt;1 -->\n<g id=\"edge1\" class=\"edge\">\n<title>0&#45;&gt;1</title>\n<path fill=\"none\" stroke=\"#000000\" d=\"M226.3891,-192.9465C220.8622,-184.2373 214.8494,-174.7626 209.0854,-165.6801\"/>\n<polygon fill=\"#000000\" stroke=\"#000000\" points=\"211.9729,-163.6979 203.6594,-157.13 206.0626,-167.4487 211.9729,-163.6979\"/>\n<text text-anchor=\"middle\" x=\"198.2058\" y=\"-177.8279\" font-family=\"Times,serif\" font-size=\"14.00\" fill=\"#000000\">True</text>\n</g>\n<!-- 4 -->\n<g id=\"node5\" class=\"node\">\n<title>4</title>\n<polygon fill=\"none\" stroke=\"#000000\" points=\"369,-157 259,-157 259,-89 369,-89 369,-157\"/>\n<text text-anchor=\"middle\" x=\"314\" y=\"-141.8\" font-family=\"Times,serif\" font-size=\"14.00\" fill=\"#000000\">RM &lt;= 7.437</text>\n<text text-anchor=\"middle\" x=\"314\" y=\"-126.8\" font-family=\"Times,serif\" font-size=\"14.00\" fill=\"#000000\">entropy = 0.992</text>\n<text text-anchor=\"middle\" x=\"314\" y=\"-111.8\" font-family=\"Times,serif\" font-size=\"14.00\" fill=\"#000000\">samples = 76</text>\n<text text-anchor=\"middle\" x=\"314\" y=\"-96.8\" font-family=\"Times,serif\" font-size=\"14.00\" fill=\"#000000\">value = [34, 42]</text>\n</g>\n<!-- 0&#45;&gt;4 -->\n<g id=\"edge4\" class=\"edge\">\n<title>0&#45;&gt;4</title>\n<path fill=\"none\" stroke=\"#000000\" d=\"M269.6109,-192.9465C275.1378,-184.2373 281.1506,-174.7626 286.9146,-165.6801\"/>\n<polygon fill=\"#000000\" stroke=\"#000000\" points=\"289.9374,-167.4487 292.3406,-157.13 284.0271,-163.6979 289.9374,-167.4487\"/>\n<text text-anchor=\"middle\" x=\"297.7942\" y=\"-177.8279\" font-family=\"Times,serif\" font-size=\"14.00\" fill=\"#000000\">False</text>\n</g>\n<!-- 2 -->\n<g id=\"node3\" class=\"node\">\n<title>2</title>\n<polygon fill=\"none\" stroke=\"#000000\" points=\"110,-53 0,-53 0,0 110,0 110,-53\"/>\n<text text-anchor=\"middle\" x=\"55\" y=\"-37.8\" font-family=\"Times,serif\" font-size=\"14.00\" fill=\"#000000\">entropy = 0.262</text>\n<text text-anchor=\"middle\" x=\"55\" y=\"-22.8\" font-family=\"Times,serif\" font-size=\"14.00\" fill=\"#000000\">samples = 135</text>\n<text text-anchor=\"middle\" x=\"55\" y=\"-7.8\" font-family=\"Times,serif\" font-size=\"14.00\" fill=\"#000000\">value = [129, 6]</text>\n</g>\n<!-- 1&#45;&gt;2 -->\n<g id=\"edge2\" class=\"edge\">\n<title>1&#45;&gt;2</title>\n<path fill=\"none\" stroke=\"#000000\" d=\"M137.2246,-88.9777C124.5708,-79.3629 110.8277,-68.9203 98.2647,-59.3743\"/>\n<polygon fill=\"#000000\" stroke=\"#000000\" points=\"100.2824,-56.5118 90.2027,-53.2485 96.0474,-62.0853 100.2824,-56.5118\"/>\n</g>\n<!-- 3 -->\n<g id=\"node4\" class=\"node\">\n<title>3</title>\n<polygon fill=\"none\" stroke=\"#000000\" points=\"238,-53 128,-53 128,0 238,0 238,-53\"/>\n<text text-anchor=\"middle\" x=\"183\" y=\"-37.8\" font-family=\"Times,serif\" font-size=\"14.00\" fill=\"#000000\">entropy = 0.0</text>\n<text text-anchor=\"middle\" x=\"183\" y=\"-22.8\" font-family=\"Times,serif\" font-size=\"14.00\" fill=\"#000000\">samples = 295</text>\n<text text-anchor=\"middle\" x=\"183\" y=\"-7.8\" font-family=\"Times,serif\" font-size=\"14.00\" fill=\"#000000\">value = [295, 0]</text>\n</g>\n<!-- 1&#45;&gt;3 -->\n<g id=\"edge3\" class=\"edge\">\n<title>1&#45;&gt;3</title>\n<path fill=\"none\" stroke=\"#000000\" d=\"M182.3526,-88.9777C182.438,-80.7364 182.5297,-71.887 182.6164,-63.5153\"/>\n<polygon fill=\"#000000\" stroke=\"#000000\" points=\"186.1189,-63.2842 182.7228,-53.2485 179.1193,-63.2116 186.1189,-63.2842\"/>\n</g>\n<!-- 5 -->\n<g id=\"node6\" class=\"node\">\n<title>5</title>\n<polygon fill=\"none\" stroke=\"#000000\" points=\"368,-53 258,-53 258,0 368,0 368,-53\"/>\n<text text-anchor=\"middle\" x=\"313\" y=\"-37.8\" font-family=\"Times,serif\" font-size=\"14.00\" fill=\"#000000\">entropy = 0.859</text>\n<text text-anchor=\"middle\" x=\"313\" y=\"-22.8\" font-family=\"Times,serif\" font-size=\"14.00\" fill=\"#000000\">samples = 46</text>\n<text text-anchor=\"middle\" x=\"313\" y=\"-7.8\" font-family=\"Times,serif\" font-size=\"14.00\" fill=\"#000000\">value = [33, 13]</text>\n</g>\n<!-- 4&#45;&gt;5 -->\n<g id=\"edge5\" class=\"edge\">\n<title>4&#45;&gt;5</title>\n<path fill=\"none\" stroke=\"#000000\" d=\"M313.6474,-88.9777C313.562,-80.7364 313.4703,-71.887 313.3836,-63.5153\"/>\n<polygon fill=\"#000000\" stroke=\"#000000\" points=\"316.8807,-63.2116 313.2772,-53.2485 309.8811,-63.2842 316.8807,-63.2116\"/>\n</g>\n<!-- 6 -->\n<g id=\"node7\" class=\"node\">\n<title>6</title>\n<polygon fill=\"none\" stroke=\"#000000\" points=\"496,-53 386,-53 386,0 496,0 496,-53\"/>\n<text text-anchor=\"middle\" x=\"441\" y=\"-37.8\" font-family=\"Times,serif\" font-size=\"14.00\" fill=\"#000000\">entropy = 0.211</text>\n<text text-anchor=\"middle\" x=\"441\" y=\"-22.8\" font-family=\"Times,serif\" font-size=\"14.00\" fill=\"#000000\">samples = 30</text>\n<text text-anchor=\"middle\" x=\"441\" y=\"-7.8\" font-family=\"Times,serif\" font-size=\"14.00\" fill=\"#000000\">value = [1, 29]</text>\n</g>\n<!-- 4&#45;&gt;6 -->\n<g id=\"edge6\" class=\"edge\">\n<title>4&#45;&gt;6</title>\n<path fill=\"none\" stroke=\"#000000\" d=\"M358.7754,-88.9777C371.4292,-79.3629 385.1723,-68.9203 397.7353,-59.3743\"/>\n<polygon fill=\"#000000\" stroke=\"#000000\" points=\"399.9526,-62.0853 405.7973,-53.2485 395.7176,-56.5118 399.9526,-62.0853\"/>\n</g>\n</g>\n</svg>\n"
          },
          "metadata": {
            "tags": []
          },
          "execution_count": 69
        }
      ]
    },
    {
      "cell_type": "markdown",
      "metadata": {
        "id": "n9jE1RkHMnlB",
        "colab_type": "text"
      },
      "source": [
        "The decision tree built using the custome function is shown in the table above. The decision tree depicted above was built using the sklearn's DecisionTreeClassifier package. \n",
        "\n",
        "It can be observed that the splits identified by the custom functions are exactly at the same place as those produced by the sklearn's package. This was a sanity check performed. "
      ]
    },
    {
      "cell_type": "markdown",
      "metadata": {
        "id": "HDAGY9xxmrNV",
        "colab_type": "text"
      },
      "source": [
        "#### 9. Visualize your splits on an X-Y plane\n",
        "\n",
        "---\n",
        "\n"
      ]
    },
    {
      "cell_type": "code",
      "metadata": {
        "id": "bYBzQ-P1NnJt",
        "colab_type": "code",
        "colab": {
          "base_uri": "https://localhost:8080/",
          "height": 294
        },
        "outputId": "73784f4a-f7ee-4aec-a989-6053e7ccdb95"
      },
      "source": [
        "classes = ['False', 'True']\n",
        "scatter = plt.scatter(boston_df.RM, boston_df.LSTAT,c = boston_df.highPriced)\n",
        "plt.title(\"Data Split\")\n",
        "plt.legend(handles=scatter.legend_elements()[0], labels=classes)\n",
        "plt.axvline(x=6.941)\n",
        "plt.axvline(x=7.437)\n",
        "plt.axhline(y=9.535, xmax = 0.63)\n",
        "plt.xlabel('RM')\n",
        "plt.ylabel('LSTAT')\n",
        "plt.show()"
      ],
      "execution_count": null,
      "outputs": [
        {
          "output_type": "display_data",
          "data": {
            "image/png": "[encoded data removed]",
            "text/plain": [
              "<Figure size 432x288 with 1 Axes>"
            ]
          },
          "metadata": {
            "tags": [],
            "needs_background": "light"
          }
        }
      ]
    },
    {
      "cell_type": "markdown",
      "metadata": {
        "id": "uU11gsM2WC4l",
        "colab_type": "text"
      },
      "source": [
        "The lines here represent the split as were identified using the helper function for the above tree. The vertical split are for RM and horizontal for values of LSTAT. This divides the X-Y plane into 4 parts as is expected as there are four leaf nodes which are produced. \n",
        "\n",
        "As can be observed from the visualization above, the top left rectangle has only False values whereas the extreme right rectangle has only True values. The remaining two rectangles have a mix of False and True values for highPriced columns."
      ]
    },
    {
      "cell_type": "markdown",
      "metadata": {
        "id": "NhLAl9nPEZyr",
        "colab_type": "text"
      },
      "source": [
        "\n",
        "---\n",
        "\n",
        "<a id='Part3'></a>\n",
        "# Section 3: Making Predictions\n",
        "\n",
        "\n",
        "---\n",
        "\n"
      ]
    },
    {
      "cell_type": "markdown",
      "metadata": {
        "id": "L-hK8gYBnHVe",
        "colab_type": "text"
      },
      "source": [
        "#### 10. Create a training/test split for your data\n",
        "\n",
        "---\n"
      ]
    },
    {
      "cell_type": "code",
      "metadata": {
        "id": "gpdYZAuCnQli",
        "colab_type": "code",
        "colab": {
          "base_uri": "https://localhost:8080/",
          "height": 65
        },
        "outputId": "d1992d82-020b-424f-96ba-719ef1eb56ab"
      },
      "source": [
        "#filter by 5 \n",
        "test_df = boston_df[boston_df.index % 5 == 0]\n",
        "train_df = boston_df.append(test_df).drop_duplicates(keep=False)\n",
        "row_train = train_df.shape[0]\n",
        "row_test = test_df.shape[0]\n",
        "print(\"The number of observations in:\\nTrain Dataset: \", row_train , \"\\nTest Dataset: \", row_test)"
      ],
      "execution_count": null,
      "outputs": [
        {
          "output_type": "stream",
          "text": [
            "The number of observations in:\n",
            "Train Dataset:  404 \n",
            "Test Dataset:  102\n"
          ],
          "name": "stdout"
        }
      ]
    },
    {
      "cell_type": "code",
      "metadata": {
        "id": "azUFmlCSieKm",
        "colab_type": "code",
        "colab": {}
      },
      "source": [
        "#x - feature labels - RM, LSTAT, \n",
        "x_train = pd.DataFrame(train_df.loc[:, ['RM', 'LSTAT']])\n",
        "x_test = pd.DataFrame(test_df.loc[:, ['RM', 'LSTAT']])\n",
        "\n",
        "#y - target label\n",
        "y_train = pd.DataFrame(train_df.loc[:, 'highPriced'])\n",
        "y_test = pd.DataFrame(test_df.loc[:, 'highPriced'])\n"
      ],
      "execution_count": null,
      "outputs": []
    },
    {
      "cell_type": "markdown",
      "metadata": {
        "id": "nWAfyA3Bj3Qz",
        "colab_type": "text"
      },
      "source": [
        "Target variable - highPriced distribution using histogram.\n"
      ]
    },
    {
      "cell_type": "code",
      "metadata": {
        "id": "V9w3foRAlZYO",
        "colab_type": "code",
        "colab": {
          "base_uri": "https://localhost:8080/",
          "height": 296
        },
        "outputId": "bdcc2d22-10f1-4f95-f182-1818e4966282"
      },
      "source": [
        "Y = [train_df.iloc[:, -1].tolist(), test_df.iloc[:, -1].tolist()]\n",
        "df = pd.DataFrame(list(zip(*Y)), columns=['Train', 'Test'])\n",
        "df.apply(pd.value_counts).plot.bar()"
      ],
      "execution_count": null,
      "outputs": [
        {
          "output_type": "execute_result",
          "data": {
            "text/plain": [
              "<matplotlib.axes._subplots.AxesSubplot at 0x7f5acbe1e400>"
            ]
          },
          "metadata": {
            "tags": []
          },
          "execution_count": 73
        },
        {
          "output_type": "display_data",
          "data": {
            "image/png": "[encoded data removed]",
            "text/plain": [
              "<Figure size 432x288 with 1 Axes>"
            ]
          },
          "metadata": {
            "tags": [],
            "needs_background": "light"
          }
        }
      ]
    },
    {
      "cell_type": "markdown",
      "metadata": {
        "id": "OZfZWu1nVKIt",
        "colab_type": "text"
      },
      "source": [
        "The target variable - highPriced has almost the same distribution of values in both training and test dataset as observed from the histogram."
      ]
    },
    {
      "cell_type": "markdown",
      "metadata": {
        "id": "ydJsXM6XnLb9",
        "colab_type": "text"
      },
      "source": [
        "#### 11. Create a baseline set of predictions\n",
        "\n",
        "---\n"
      ]
    },
    {
      "cell_type": "code",
      "metadata": {
        "id": "YLbGSR2w6ZL6",
        "colab_type": "code",
        "colab": {}
      },
      "source": [
        "#get predictions by sampling 404 training rows with replacement to get test predictions for 102 rows\n",
        "baseline = choices(y_train['highPriced'].values.tolist(), k = row_test)"
      ],
      "execution_count": null,
      "outputs": []
    },
    {
      "cell_type": "code",
      "metadata": {
        "id": "Alay_sQ68EOb",
        "colab_type": "code",
        "colab": {
          "base_uri": "https://localhost:8080/",
          "height": 32
        },
        "outputId": "41813e25-aee8-48ef-bedc-a3916b9dc28d"
      },
      "source": [
        "base_accuracy = accuracy_score(y_test, baseline)\n",
        "print('Baseline prediction accuracy: {:.2f}'.format(base_accuracy)) "
      ],
      "execution_count": null,
      "outputs": [
        {
          "output_type": "stream",
          "text": [
            "Baseline prediction accuracy: 0.87\n"
          ],
          "name": "stdout"
        }
      ]
    },
    {
      "cell_type": "markdown",
      "metadata": {
        "id": "KjN9aR1aV6xH",
        "colab_type": "text"
      },
      "source": [
        "The baseline prediction gives an accuracy of 87% this might be attributed to the resampling method which was employed."
      ]
    },
    {
      "cell_type": "markdown",
      "metadata": {
        "id": "CGbNGvVqnONe",
        "colab_type": "text"
      },
      "source": [
        "#### 12. Now, use a 2-level decision tree to make predictions\n",
        "\n",
        "---\n"
      ]
    },
    {
      "cell_type": "code",
      "metadata": {
        "id": "EiD5CbKCrI7p",
        "colab_type": "code",
        "colab": {
          "base_uri": "https://localhost:8080/",
          "height": 312
        },
        "outputId": "bb5773d7-9102-4927-d8c3-17009e1bd6f9"
      },
      "source": [
        "#create an empmty dataframe with columns - level, col, threshold to store the tree\n",
        "train_tree = pd.DataFrame(columns = ['level', 'col', 'threshold'])\n",
        "train_tree = twoLevelTree(train_df.loc[:, [\"RM\", \"LSTAT\", 'highPriced']], ['RM', \"LSTAT\"], train_tree)"
      ],
      "execution_count": null,
      "outputs": [
        {
          "output_type": "stream",
          "text": [
            "The optimal split for  RM  based on\n",
            " 0.251054  entropy is @ split  7.127 \n",
            " 0.080615  Gini Impurity is @ split 7.437\n",
            "The optimal split for  LSTAT  based on\n",
            " 0.307043  entropy is @ split  5.155 \n",
            " 0.116821  Gini Impurity is @ split 4.265\n",
            "The optimal split for  RM  based on\n",
            " 0.150378  entropy is @ split  6.678 \n",
            " 0.046732  Gini Impurity is @ split 6.941\n",
            "The optimal split for  LSTAT  based on\n",
            " 0.126534  entropy is @ split  5.115 \n",
            " 0.042679  Gini Impurity is @ split 5.115\n",
            "The optimal split for  RM  based on\n",
            " 0.539052  entropy is @ split  7.437 \n",
            " 0.239632  Gini Impurity is @ split 7.437\n",
            "The optimal split for  LSTAT  based on\n",
            " 0.586375  entropy is @ split  3.99 \n",
            " 0.293076  Gini Impurity is @ split 3.99\n"
          ],
          "name": "stdout"
        }
      ]
    },
    {
      "cell_type": "code",
      "metadata": {
        "id": "2Hj6gSeRZIlj",
        "colab_type": "code",
        "colab": {
          "base_uri": "https://localhost:8080/",
          "height": 140
        },
        "outputId": "18dbc523-9879-4ab0-be53-63f1954ecdb4"
      },
      "source": [
        "train_tree.head()"
      ],
      "execution_count": null,
      "outputs": [
        {
          "output_type": "execute_result",
          "data": {
            "text/html": [
              "<div>\n",
              "<style scoped>\n",
              "    .dataframe tbody tr th:only-of-type {\n",
              "        vertical-align: middle;\n",
              "    }\n",
              "\n",
              "    .dataframe tbody tr th {\n",
              "        vertical-align: top;\n",
              "    }\n",
              "\n",
              "    .dataframe thead th {\n",
              "        text-align: right;\n",
              "    }\n",
              "</style>\n",
              "<table border=\"1\" class=\"dataframe\">\n",
              "  <thead>\n",
              "    <tr style=\"text-align: right;\">\n",
              "      <th></th>\n",
              "      <th>level</th>\n",
              "      <th>col</th>\n",
              "      <th>threshold</th>\n",
              "    </tr>\n",
              "  </thead>\n",
              "  <tbody>\n",
              "    <tr>\n",
              "      <th>0</th>\n",
              "      <td>1</td>\n",
              "      <td>RM</td>\n",
              "      <td>7.127</td>\n",
              "    </tr>\n",
              "    <tr>\n",
              "      <th>1</th>\n",
              "      <td>2</td>\n",
              "      <td>LSTAT</td>\n",
              "      <td>5.115</td>\n",
              "    </tr>\n",
              "    <tr>\n",
              "      <th>2</th>\n",
              "      <td>2</td>\n",
              "      <td>RM</td>\n",
              "      <td>7.437</td>\n",
              "    </tr>\n",
              "  </tbody>\n",
              "</table>\n",
              "</div>"
            ],
            "text/plain": [
              "  level    col  threshold\n",
              "0     1     RM      7.127\n",
              "1     2  LSTAT      5.115\n",
              "2     2     RM      7.437"
            ]
          },
          "metadata": {
            "tags": []
          },
          "execution_count": 77
        }
      ]
    },
    {
      "cell_type": "markdown",
      "metadata": {
        "id": "Xhv0BG2xeLIt",
        "colab_type": "text"
      },
      "source": [
        "The above dataframe shows the two-level tree created using predictors - RM, LSTAT which was trained on the training data. The function below predicts value for test dataset."
      ]
    },
    {
      "cell_type": "code",
      "metadata": {
        "id": "sG_vcIxqcID1",
        "colab_type": "code",
        "colab": {}
      },
      "source": [
        "import random\n",
        "#make predictions\n",
        "def predict(train_df, test_df):\n",
        "  node_1, node_2, node_3, node_4 = [], [], [], []\n",
        "  for _, r in train_df.iterrows():\n",
        "    #find samples belonging to nodes \n",
        "    if r.RM < 7.127:\n",
        "      if r.LSTAT < 5.115:\n",
        "        node_1.append(r.highPriced)\n",
        "      else:\n",
        "        node_2.append(r.highPriced)\n",
        "    else:\n",
        "      if r.RM < 7.437:\n",
        "        node_3.append(r.highPriced)\n",
        "      else:\n",
        "        node_4.append(r.highPriced)\n",
        "      \n",
        "  predict = []\n",
        "  for _, r in test_df.iterrows():\n",
        "    #sample to predict\n",
        "    if r.RM < 7.127:\n",
        "      if r.LSTAT < 5.115:\n",
        "        predict.append(random.choice(node_1))\n",
        "      else:\n",
        "        predict.append(random.choice(node_2))\n",
        "    else:\n",
        "      if r.RM < 7.437:\n",
        "        predict.append(random.choice(node_3))\n",
        "      else:\n",
        "        predict.append(random.choice(node_4))\n",
        "  return predict"
      ],
      "execution_count": null,
      "outputs": []
    },
    {
      "cell_type": "code",
      "metadata": {
        "id": "Ym9LYslQZOH0",
        "colab_type": "code",
        "colab": {
          "base_uri": "https://localhost:8080/",
          "height": 32
        },
        "outputId": "0ee790eb-bae7-4115-d696-c83be4683b9d"
      },
      "source": [
        "predict_y = predict(train_df, test_df)\n",
        "tree_accuracy = accuracy_score(y_test, predict_y)\n",
        "print('Test set accuracy for tree trained on training data using helper functions: {:.2f}'.format(tree_accuracy)) "
      ],
      "execution_count": null,
      "outputs": [
        {
          "output_type": "stream",
          "text": [
            "Test set accuracy for tree trained on training data using helper functions: 0.93\n"
          ],
          "name": "stdout"
        }
      ]
    },
    {
      "cell_type": "markdown",
      "metadata": {
        "id": "yD_tb60udhJ6",
        "colab_type": "text"
      },
      "source": [
        "The accuracy of this tree generated using the helper function is 93%. This is higher compared to the baseline prediction's accuracy of 87%. This tree is also different than the one which was trained using the whole dataset as will be expected. While the split nodes remain the same in terms of columns, the value is different. "
      ]
    },
    {
      "cell_type": "markdown",
      "metadata": {
        "id": "IBR041q5EfyH",
        "colab_type": "text"
      },
      "source": [
        "\n",
        "\n",
        "---\n",
        "\n",
        "\n",
        "<a id='Part4'></a>\n",
        "# Section 4: Comparing to out-of-the-box classifiers\n",
        "\n",
        "\n",
        "---\n"
      ]
    },
    {
      "cell_type": "markdown",
      "metadata": {
        "id": "ta5EDeHQndkV",
        "colab_type": "text"
      },
      "source": [
        "#### 13. Use sklearn’s DecisionTreeClassifier to recreate the decision tree that is trained on the training data.\n",
        "\n",
        "\n",
        "\n",
        "---\n"
      ]
    },
    {
      "cell_type": "code",
      "metadata": {
        "id": "_3Bt6P2Qqpej",
        "colab_type": "code",
        "colab": {
          "base_uri": "https://localhost:8080/",
          "height": 115
        },
        "outputId": "6e4e3f0c-d19e-4247-e948-4c5c53d69c9e"
      },
      "source": [
        "model_1 = tree.DecisionTreeClassifier(max_depth = 2, criterion='entropy')\n",
        "model_1.fit(x_train, y_train)"
      ],
      "execution_count": null,
      "outputs": [
        {
          "output_type": "execute_result",
          "data": {
            "text/plain": [
              "DecisionTreeClassifier(ccp_alpha=0.0, class_weight=None, criterion='entropy',\n",
              "                       max_depth=2, max_features=None, max_leaf_nodes=None,\n",
              "                       min_impurity_decrease=0.0, min_impurity_split=None,\n",
              "                       min_samples_leaf=1, min_samples_split=2,\n",
              "                       min_weight_fraction_leaf=0.0, presort='deprecated',\n",
              "                       random_state=None, splitter='best')"
            ]
          },
          "metadata": {
            "tags": []
          },
          "execution_count": 80
        }
      ]
    },
    {
      "cell_type": "code",
      "metadata": {
        "id": "ls4BcNHOphhY",
        "colab_type": "code",
        "colab": {
          "base_uri": "https://localhost:8080/",
          "height": 377
        },
        "outputId": "f4495d6b-f193-44c5-d44d-8ed88d2b618d"
      },
      "source": [
        "tree.export_graphviz(model_1, out_file='tree_1.dot', feature_names=x_train.columns)\n",
        "display_tree(\"tree_1.dot\")"
      ],
      "execution_count": null,
      "outputs": [
        {
          "output_type": "execute_result",
          "data": {
            "text/plain": [
              "<graphviz.files.Source at 0x7f5acc4c5b38>"
            ],
            "image/svg+xml": "<?xml version=\"1.0\" encoding=\"UTF-8\" standalone=\"no\"?>\n<!DOCTYPE svg PUBLIC \"-//W3C//DTD SVG 1.1//EN\"\n \"http://www.w3.org/Graphics/SVG/1.1/DTD/svg11.dtd\">\n<!-- Generated by graphviz version 2.40.1 (20161225.0304)\n -->\n<!-- Title: Tree Pages: 1 -->\n<svg width=\"504pt\" height=\"269pt\"\n viewBox=\"0.00 0.00 504.00 269.00\" xmlns=\"http://www.w3.org/2000/svg\" xmlns:xlink=\"http://www.w3.org/1999/xlink\">\n<g id=\"graph0\" class=\"graph\" transform=\"scale(1 1) rotate(0) translate(4 265)\">\n<title>Tree</title>\n<polygon fill=\"#ffffff\" stroke=\"transparent\" points=\"-4,4 -4,-265 500,-265 500,4 -4,4\"/>\n<!-- 0 -->\n<g id=\"node1\" class=\"node\">\n<title>0</title>\n<polygon fill=\"none\" stroke=\"#000000\" points=\"306.5,-261 189.5,-261 189.5,-193 306.5,-193 306.5,-261\"/>\n<text text-anchor=\"middle\" x=\"248\" y=\"-245.8\" font-family=\"Times,serif\" font-size=\"14.00\" fill=\"#000000\">RM &lt;= 7.127</text>\n<text text-anchor=\"middle\" x=\"248\" y=\"-230.8\" font-family=\"Times,serif\" font-size=\"14.00\" fill=\"#000000\">entropy = 0.474</text>\n<text text-anchor=\"middle\" x=\"248\" y=\"-215.8\" font-family=\"Times,serif\" font-size=\"14.00\" fill=\"#000000\">samples = 404</text>\n<text text-anchor=\"middle\" x=\"248\" y=\"-200.8\" font-family=\"Times,serif\" font-size=\"14.00\" fill=\"#000000\">value = [363, 41]</text>\n</g>\n<!-- 1 -->\n<g id=\"node2\" class=\"node\">\n<title>1</title>\n<polygon fill=\"none\" stroke=\"#000000\" points=\"240.5,-157 123.5,-157 123.5,-89 240.5,-89 240.5,-157\"/>\n<text text-anchor=\"middle\" x=\"182\" y=\"-141.8\" font-family=\"Times,serif\" font-size=\"14.00\" fill=\"#000000\">LSTAT &lt;= 5.115</text>\n<text text-anchor=\"middle\" x=\"182\" y=\"-126.8\" font-family=\"Times,serif\" font-size=\"14.00\" fill=\"#000000\">entropy = 0.169</text>\n<text text-anchor=\"middle\" x=\"182\" y=\"-111.8\" font-family=\"Times,serif\" font-size=\"14.00\" fill=\"#000000\">samples = 358</text>\n<text text-anchor=\"middle\" x=\"182\" y=\"-96.8\" font-family=\"Times,serif\" font-size=\"14.00\" fill=\"#000000\">value = [349, 9]</text>\n</g>\n<!-- 0&#45;&gt;1 -->\n<g id=\"edge1\" class=\"edge\">\n<title>0&#45;&gt;1</title>\n<path fill=\"none\" stroke=\"#000000\" d=\"M226.3891,-192.9465C220.8622,-184.2373 214.8494,-174.7626 209.0854,-165.6801\"/>\n<polygon fill=\"#000000\" stroke=\"#000000\" points=\"211.9729,-163.6979 203.6594,-157.13 206.0626,-167.4487 211.9729,-163.6979\"/>\n<text text-anchor=\"middle\" x=\"198.2058\" y=\"-177.8279\" font-family=\"Times,serif\" font-size=\"14.00\" fill=\"#000000\">True</text>\n</g>\n<!-- 4 -->\n<g id=\"node5\" class=\"node\">\n<title>4</title>\n<polygon fill=\"none\" stroke=\"#000000\" points=\"369,-157 259,-157 259,-89 369,-89 369,-157\"/>\n<text text-anchor=\"middle\" x=\"314\" y=\"-141.8\" font-family=\"Times,serif\" font-size=\"14.00\" fill=\"#000000\">RM &lt;= 7.437</text>\n<text text-anchor=\"middle\" x=\"314\" y=\"-126.8\" font-family=\"Times,serif\" font-size=\"14.00\" fill=\"#000000\">entropy = 0.887</text>\n<text text-anchor=\"middle\" x=\"314\" y=\"-111.8\" font-family=\"Times,serif\" font-size=\"14.00\" fill=\"#000000\">samples = 46</text>\n<text text-anchor=\"middle\" x=\"314\" y=\"-96.8\" font-family=\"Times,serif\" font-size=\"14.00\" fill=\"#000000\">value = [14, 32]</text>\n</g>\n<!-- 0&#45;&gt;4 -->\n<g id=\"edge4\" class=\"edge\">\n<title>0&#45;&gt;4</title>\n<path fill=\"none\" stroke=\"#000000\" d=\"M269.6109,-192.9465C275.1378,-184.2373 281.1506,-174.7626 286.9146,-165.6801\"/>\n<polygon fill=\"#000000\" stroke=\"#000000\" points=\"289.9374,-167.4487 292.3406,-157.13 284.0271,-163.6979 289.9374,-167.4487\"/>\n<text text-anchor=\"middle\" x=\"297.7942\" y=\"-177.8279\" font-family=\"Times,serif\" font-size=\"14.00\" fill=\"#000000\">False</text>\n</g>\n<!-- 2 -->\n<g id=\"node3\" class=\"node\">\n<title>2</title>\n<polygon fill=\"none\" stroke=\"#000000\" points=\"110,-53 0,-53 0,0 110,0 110,-53\"/>\n<text text-anchor=\"middle\" x=\"55\" y=\"-37.8\" font-family=\"Times,serif\" font-size=\"14.00\" fill=\"#000000\">entropy = 0.764</text>\n<text text-anchor=\"middle\" x=\"55\" y=\"-22.8\" font-family=\"Times,serif\" font-size=\"14.00\" fill=\"#000000\">samples = 27</text>\n<text text-anchor=\"middle\" x=\"55\" y=\"-7.8\" font-family=\"Times,serif\" font-size=\"14.00\" fill=\"#000000\">value = [21, 6]</text>\n</g>\n<!-- 1&#45;&gt;2 -->\n<g id=\"edge2\" class=\"edge\">\n<title>1&#45;&gt;2</title>\n<path fill=\"none\" stroke=\"#000000\" d=\"M137.2246,-88.9777C124.5708,-79.3629 110.8277,-68.9203 98.2647,-59.3743\"/>\n<polygon fill=\"#000000\" stroke=\"#000000\" points=\"100.2824,-56.5118 90.2027,-53.2485 96.0474,-62.0853 100.2824,-56.5118\"/>\n</g>\n<!-- 3 -->\n<g id=\"node4\" class=\"node\">\n<title>3</title>\n<polygon fill=\"none\" stroke=\"#000000\" points=\"238,-53 128,-53 128,0 238,0 238,-53\"/>\n<text text-anchor=\"middle\" x=\"183\" y=\"-37.8\" font-family=\"Times,serif\" font-size=\"14.00\" fill=\"#000000\">entropy = 0.075</text>\n<text text-anchor=\"middle\" x=\"183\" y=\"-22.8\" font-family=\"Times,serif\" font-size=\"14.00\" fill=\"#000000\">samples = 331</text>\n<text text-anchor=\"middle\" x=\"183\" y=\"-7.8\" font-family=\"Times,serif\" font-size=\"14.00\" fill=\"#000000\">value = [328, 3]</text>\n</g>\n<!-- 1&#45;&gt;3 -->\n<g id=\"edge3\" class=\"edge\">\n<title>1&#45;&gt;3</title>\n<path fill=\"none\" stroke=\"#000000\" d=\"M182.3526,-88.9777C182.438,-80.7364 182.5297,-71.887 182.6164,-63.5153\"/>\n<polygon fill=\"#000000\" stroke=\"#000000\" points=\"186.1189,-63.2842 182.7228,-53.2485 179.1193,-63.2116 186.1189,-63.2842\"/>\n</g>\n<!-- 5 -->\n<g id=\"node6\" class=\"node\">\n<title>5</title>\n<polygon fill=\"none\" stroke=\"#000000\" points=\"368,-53 258,-53 258,0 368,0 368,-53\"/>\n<text text-anchor=\"middle\" x=\"313\" y=\"-37.8\" font-family=\"Times,serif\" font-size=\"14.00\" fill=\"#000000\">entropy = 0.934</text>\n<text text-anchor=\"middle\" x=\"313\" y=\"-22.8\" font-family=\"Times,serif\" font-size=\"14.00\" fill=\"#000000\">samples = 20</text>\n<text text-anchor=\"middle\" x=\"313\" y=\"-7.8\" font-family=\"Times,serif\" font-size=\"14.00\" fill=\"#000000\">value = [13, 7]</text>\n</g>\n<!-- 4&#45;&gt;5 -->\n<g id=\"edge5\" class=\"edge\">\n<title>4&#45;&gt;5</title>\n<path fill=\"none\" stroke=\"#000000\" d=\"M313.6474,-88.9777C313.562,-80.7364 313.4703,-71.887 313.3836,-63.5153\"/>\n<polygon fill=\"#000000\" stroke=\"#000000\" points=\"316.8807,-63.2116 313.2772,-53.2485 309.8811,-63.2842 316.8807,-63.2116\"/>\n</g>\n<!-- 6 -->\n<g id=\"node7\" class=\"node\">\n<title>6</title>\n<polygon fill=\"none\" stroke=\"#000000\" points=\"496,-53 386,-53 386,0 496,0 496,-53\"/>\n<text text-anchor=\"middle\" x=\"441\" y=\"-37.8\" font-family=\"Times,serif\" font-size=\"14.00\" fill=\"#000000\">entropy = 0.235</text>\n<text text-anchor=\"middle\" x=\"441\" y=\"-22.8\" font-family=\"Times,serif\" font-size=\"14.00\" fill=\"#000000\">samples = 26</text>\n<text text-anchor=\"middle\" x=\"441\" y=\"-7.8\" font-family=\"Times,serif\" font-size=\"14.00\" fill=\"#000000\">value = [1, 25]</text>\n</g>\n<!-- 4&#45;&gt;6 -->\n<g id=\"edge6\" class=\"edge\">\n<title>4&#45;&gt;6</title>\n<path fill=\"none\" stroke=\"#000000\" d=\"M358.7754,-88.9777C371.4292,-79.3629 385.1723,-68.9203 397.7353,-59.3743\"/>\n<polygon fill=\"#000000\" stroke=\"#000000\" points=\"399.9526,-62.0853 405.7973,-53.2485 395.7176,-56.5118 399.9526,-62.0853\"/>\n</g>\n</g>\n</svg>\n"
          },
          "metadata": {
            "tags": []
          },
          "execution_count": 81
        }
      ]
    },
    {
      "cell_type": "code",
      "metadata": {
        "id": "54_-iDMXtce6",
        "colab_type": "code",
        "colab": {
          "base_uri": "https://localhost:8080/",
          "height": 32
        },
        "outputId": "40888184-3b8b-4bc9-c3be-2678dbb0ed0a"
      },
      "source": [
        "y_pred = model_1.predict(x_test)\n",
        "print(\"Test set accuracy for sklearn Decision Tree: {:.4f}\".format(accuracy_score(y_test, y_pred)))"
      ],
      "execution_count": null,
      "outputs": [
        {
          "output_type": "stream",
          "text": [
            "Test set accuracy for sklearn Decision Tree: 0.9706\n"
          ],
          "name": "stdout"
        }
      ]
    },
    {
      "cell_type": "markdown",
      "metadata": {
        "id": "vuM_CgUte12I",
        "colab_type": "text"
      },
      "source": [
        "The decision tree built using sklearn's package gives the same split points as the tree formed in Part 12 by using the custom helper functions. Thus, the splits are at the same location and the probabilities are similiar as in the tree in Part 12.\n",
        "\n",
        "The prediction accuracy for this tree is 97.06% which is higher than both the tree in Part 12 and the baseline predictions which had accuracy of 93% and 88% respectively."
      ]
    },
    {
      "cell_type": "markdown",
      "metadata": {
        "id": "lwZQvy_CniVQ",
        "colab_type": "text"
      },
      "source": [
        "#### 14. Use sklearn’s BaggingClassifier to create a bagging classifier whose base is a DecisionTreeClassifier with 2 levels and entropy as the split criterion.\n",
        "\n",
        "\n",
        "---\n"
      ]
    },
    {
      "cell_type": "code",
      "metadata": {
        "id": "84LQGqeBkrfl",
        "colab_type": "code",
        "colab": {
          "base_uri": "https://localhost:8080/",
          "height": 85
        },
        "outputId": "df921da1-2df7-4a16-f8c5-23bd60aea0b0"
      },
      "source": [
        "dt = tree.DecisionTreeClassifier(criterion = 'entropy', max_depth = 2)\n",
        "bc = BaggingClassifier(base_estimator=dt, n_estimators=100)\n",
        "bc.fit(x_train, y_train)\n",
        "y_pred_bc = bc.predict(x_test)\n",
        "acc_test = accuracy_score(y_test, y_pred_bc)\n",
        "print('Test set accuracy for sklearn Bagged Tree: {:.4f}'.format(acc_test)) "
      ],
      "execution_count": null,
      "outputs": [
        {
          "output_type": "stream",
          "text": [
            "Test set accuracy for sklearn Bagged Tree: 0.9706\n"
          ],
          "name": "stdout"
        },
        {
          "output_type": "stream",
          "text": [
            "/usr/local/lib/python3.6/dist-packages/sklearn/ensemble/_bagging.py:645: DataConversionWarning: A column-vector y was passed when a 1d array was expected. Please change the shape of y to (n_samples, ), for example using ravel().\n",
            "  y = column_or_1d(y, warn=True)\n"
          ],
          "name": "stderr"
        }
      ]
    },
    {
      "cell_type": "markdown",
      "metadata": {
        "id": "MWCFD3TEh-Vc",
        "colab_type": "text"
      },
      "source": [
        "The prediction accuracy for bagged decision tree is 97.06% which is higher than both the tree in Part 12 and the baseline predictions which had accuracy of 93% and 88% respectively. However, it has the same accuracy as the basic decision tree of Part 13. It is possible that due to the class imbalance, there isn't a lot of variance to deal with. Thus, there was no marked difference in the accuracy by bagging the decision tree."
      ]
    },
    {
      "cell_type": "markdown",
      "metadata": {
        "id": "HvebCzb9nllv",
        "colab_type": "text"
      },
      "source": [
        "#### 15. Use sklearn’s RandomForestClassifier to create a random forest classifier whose base is a decision tree with 2 levels and entropy as the split criterion.\n",
        "\n",
        "\n",
        "---\n"
      ]
    },
    {
      "cell_type": "code",
      "metadata": {
        "id": "P-o4e4vwqtJI",
        "colab_type": "code",
        "colab": {
          "base_uri": "https://localhost:8080/",
          "height": 85
        },
        "outputId": "8e88a97e-dd58-49ee-ada8-969ffcf701da"
      },
      "source": [
        "rf = RandomForestClassifier(n_estimators=100,\n",
        "            random_state=4, criterion = 'entropy', max_depth = 2)\n",
        "rf.fit(x_train, y_train) \n",
        "\n",
        "y_pred_rf = rf.predict(x_test)\n",
        "acc_test_rf = accuracy_score(y_test, y_pred_rf)\n",
        "print('Test set accuracy for sklearn Random Forest: {:.4f}'.format(acc_test_rf)) "
      ],
      "execution_count": null,
      "outputs": [
        {
          "output_type": "stream",
          "text": [
            "Test set accuracy for sklearn Random Forest: 0.9706\n"
          ],
          "name": "stdout"
        },
        {
          "output_type": "stream",
          "text": [
            "/usr/local/lib/python3.6/dist-packages/ipykernel_launcher.py:3: DataConversionWarning: A column-vector y was passed when a 1d array was expected. Please change the shape of y to (n_samples,), for example using ravel().\n",
            "  This is separate from the ipykernel package so we can avoid doing imports until\n"
          ],
          "name": "stderr"
        }
      ]
    },
    {
      "cell_type": "code",
      "metadata": {
        "id": "OrVcqEfdsXM4",
        "colab_type": "code",
        "colab": {
          "base_uri": "https://localhost:8080/",
          "height": 32
        },
        "outputId": "c8a27a53-49b3-4141-b510-2c357bf100df"
      },
      "source": [
        "# View a list of the features and their importance scores\n",
        "list(zip(x_train, rf.feature_importances_))"
      ],
      "execution_count": null,
      "outputs": [
        {
          "output_type": "execute_result",
          "data": {
            "text/plain": [
              "[('RM', 0.5844199727381939), ('LSTAT', 0.4155800272618062)]"
            ]
          },
          "metadata": {
            "tags": []
          },
          "execution_count": 98
        }
      ]
    },
    {
      "cell_type": "markdown",
      "metadata": {
        "id": "QW-avAG4hwH9",
        "colab_type": "text"
      },
      "source": [
        "The prediction accuracy for random forest model is 97.06% which is higher than both the tree in Part 12 and the baseline predictions which had accuracy of 93% and 88% respectively. However, it has the same accuracy as the basic decision tree of Part 13. The features have almost the similar rank of importance as in the trees which were built before this. Once again, RM comes at the top as the most discriminating factor. This was the case with the all the previous trees where the root node split is using RM. "
      ]
    }
  ]
}